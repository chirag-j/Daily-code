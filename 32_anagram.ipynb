{
 "cells": [
  {
   "cell_type": "code",
   "execution_count": 8,
   "metadata": {},
   "outputs": [],
   "source": [
    "def removeNonAnagrams(temp, s):\n",
    "    c = 0\n",
    "    while(1):\n",
    "        for y in temp[c]:\n",
    "            if y not in s or len(s)!=len(temp[c]):\n",
    "                del temp[c]\n",
    "                c-=1\n",
    "                break;\n",
    "        c+=1\n",
    "        if c>=len(temp):\n",
    "            break;\n",
    "    return temp"
   ]
  },
  {
   "cell_type": "code",
   "execution_count": 3,
   "metadata": {},
   "outputs": [
    {
     "name": "stdout",
     "output_type": "stream",
     "text": [
      "['c']\n",
      "['ca', 'a']\n",
      "['cab', 'ab', 'b']\n",
      "['cab', 'c']\n",
      "['cab', 'ca', 'a']\n",
      "['cab', 'b']\n",
      "['cab', 'ba', 'a']\n",
      "['cab', 'bac', 'ac', 'c']\n",
      "['cab', 'bac', 'acb', 'cb', 'b']\n"
     ]
    },
    {
     "data": {
      "text/plain": [
       "3"
      ]
     },
     "execution_count": 3,
     "metadata": {},
     "output_type": "execute_result"
    }
   ],
   "source": [
    "# w = \"abxaba\"\n",
    "# s = \"ab\"\n",
    "w = \"cabfcagbacb\"\n",
    "s = \"abc\"\n",
    "temp = []\n",
    "c = 0\n",
    "for i in range(0,len(w)):\n",
    "    if w[i] in s:\n",
    "        for j in range(0, len(temp)):\n",
    "            if len(temp[j]) < len(s):\n",
    "                temp[j]= temp[j] + w[i]\n",
    "        temp.append(w[i])\n",
    "        print(temp)\n",
    "    else:\n",
    "        temp = removeNonAnagrams(temp, s)\n",
    "temp = removeNonAnagrams(temp, s)\n",
    "len(temp)"
   ]
  },
  {
   "cell_type": "code",
   "execution_count": 10,
   "metadata": {},
   "outputs": [
    {
     "data": {
      "text/plain": [
       "['aac']"
      ]
     },
     "execution_count": 10,
     "metadata": {},
     "output_type": "execute_result"
    }
   ],
   "source": [
    "temp = [\"ca\", \"ace\", \"gre\", \"aac\", \"ac\"]\n",
    "temp = removeNonAnagrams(temp, \"acc\")\n",
    "temp"
   ]
  },
  {
   "cell_type": "code",
   "execution_count": null,
   "metadata": {},
   "outputs": [],
   "source": [
    "temp"
   ]
  }
 ],
 "metadata": {
  "kernelspec": {
   "display_name": "Python 3",
   "language": "python",
   "name": "python3"
  },
  "language_info": {
   "codemirror_mode": {
    "name": "ipython",
    "version": 3
   },
   "file_extension": ".py",
   "mimetype": "text/x-python",
   "name": "python",
   "nbconvert_exporter": "python",
   "pygments_lexer": "ipython3",
   "version": "3.8.6"
  }
 },
 "nbformat": 4,
 "nbformat_minor": 4
}
