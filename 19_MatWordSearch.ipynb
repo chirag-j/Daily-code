{
 "cells": [
  {
   "cell_type": "code",
   "execution_count": 1,
   "metadata": {},
   "outputs": [],
   "source": [
    "import numpy as np\n",
    "m = np.array([['F', 'A', 'C', 'I'],\n",
    "              ['O', 'B', 'Q', 'P'],\n",
    "              ['A', 'N', 'O', 'B'],\n",
    "              ['M', 'A', 'S', 'S']])"
   ]
  },
  {
   "cell_type": "code",
   "execution_count": 6,
   "metadata": {},
   "outputs": [
    {
     "data": {
      "text/plain": [
       "False"
      ]
     },
     "execution_count": 6,
     "metadata": {},
     "output_type": "execute_result"
    }
   ],
   "source": [
    "def search(tw,m):\n",
    "    tw = list(tw)\n",
    "    k = len(tw)\n",
    "    for i in range(m.shape[0]):\n",
    "        for j in range(m.shape[1]):\n",
    "            if m[i,j] == tw[0]:\n",
    "                if list(m[i,j:j+k]) == tw or list(m[i:i+k, j]) == tw:\n",
    "                    return True\n",
    "    return False\n",
    "                \n",
    "search('ASS', m)"
   ]
  },
  {
   "cell_type": "code",
   "execution_count": null,
   "metadata": {},
   "outputs": [],
   "source": []
  }
 ],
 "metadata": {
  "kernelspec": {
   "display_name": "Python 3",
   "language": "python",
   "name": "python3"
  },
  "language_info": {
   "codemirror_mode": {
    "name": "ipython",
    "version": 3
   },
   "file_extension": ".py",
   "mimetype": "text/x-python",
   "name": "python",
   "nbconvert_exporter": "python",
   "pygments_lexer": "ipython3",
   "version": "3.8.6"
  }
 },
 "nbformat": 4,
 "nbformat_minor": 4
}
