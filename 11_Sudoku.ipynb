{
 "cells": [
  {
   "cell_type": "code",
   "execution_count": null,
   "metadata": {},
   "outputs": [],
   "source": [
    "import numpy as np"
   ]
  },
  {
   "cell_type": "code",
   "execution_count": null,
   "metadata": {},
   "outputs": [],
   "source": [
    "sdk =    np.array([[6,0,0,  1,5,7,  0,0,0],\n",
    "                   [3,0,0,  2,0,4,  0,9,0],\n",
    "                   [0,1,0,  0,0,6,  0,4,0],\n",
    "                   \n",
    "                   [2,6,0,  0,1,0,  8,0,3],\n",
    "                   [5,0,0,  0,0,0,  9,2,4],\n",
    "                   [0,0,3,  9,0,0,  0,0,5],\n",
    "                   \n",
    "                   [1,3,0,  6,0,2,  0,0,0],\n",
    "                   [9,4,6,  8,3,1,  7,0,0],\n",
    "                   [7,0,0,  0,4,9,  0,1,0]])\n",
    "np.count_nonzero(sdk)"
   ]
  },
  {
   "cell_type": "code",
   "execution_count": null,
   "metadata": {},
   "outputs": [],
   "source": [
    "sdk = np.array([[0,0,0,2,6,0,7,0,1],   #hiten\n",
    "                [6,8,0,0,7,0,0,9,0],\n",
    "                [1,9,0,0,0,4,5,0,0],\n",
    "                [8,2,0,1,0,0,0,4,0],\n",
    "                [0,0,4,6,0,2,9,0,0],\n",
    "                [0,5,0,0,0,3,0,2,8],\n",
    "                [0,0,9,3,0,0,0,7,4],\n",
    "                [0,4,0,0,5,0,0,3,6],\n",
    "                [7,0,3,0,1,8,0,0,0]])\n",
    "np.count_nonzero(sdk)"
   ]
  },
  {
   "cell_type": "code",
   "execution_count": null,
   "metadata": {},
   "outputs": [],
   "source": [
    "sdk = np.array([[8,0,0,9,0,0,3,0,0],   #shweta\n",
    "                [1,9,3,4,0,0,0,0,8],\n",
    "                [0,0,0,0,8,0,0,9,7],\n",
    "                [0,5,0,7,0,4,2,0,0],\n",
    "                [0,1,2,0,0,0,7,3,0],\n",
    "                [0,4,9,0,3,2,6,0,0],\n",
    "                [0,0,5,8,7,0,9,0,0],\n",
    "                [2,0,6,0,0,0,8,5,1],\n",
    "                [9,0,0,2,0,6,4,0,3]])\n",
    "np.count_nonzero(sdk)"
   ]
  },
  {
   "cell_type": "code",
   "execution_count": null,
   "metadata": {},
   "outputs": [],
   "source": [
    "sdk =    np.array([[0,9,0,  0,5,7,  0,0,0],   #hard\n",
    "                   [2,0,0,  0,0,0,  0,0,5],\n",
    "                   [0,0,0,  0,0,4,  0,0,6],\n",
    "                   \n",
    "                   [0,6,0,  0,0,0,  0,0,0],\n",
    "                   [0,0,5,  0,6,3,  4,0,0],\n",
    "                   [3,0,0,  9,0,8,  0,0,0],\n",
    "                   \n",
    "                   [0,3,0,  0,7,0,  0,8,0],\n",
    "                   [0,2,7,  0,0,9,  0,0,0],\n",
    "                   [0,4,0,  8,0,1,  0,5,0]])\n",
    "np.count_nonzero(sdk)"
   ]
  },
  {
   "cell_type": "code",
   "execution_count": null,
   "metadata": {},
   "outputs": [],
   "source": [
    "# def whatToFill(arr = sdk):\n",
    "#     rm = np.count_nonzero(arr, axis = 1)\n",
    "#     cm = np.count_nonzero(arr, axis = 0)\n",
    "#     rm[rm==9] = 0\n",
    "#     cm[cm==9] = 0\n",
    "#     if np.max(rm) >= np.max(cm):\n",
    "#         ar = np.argmax(rm)\n",
    "#         ac = np.argmax((sdk[ar]==0) * cm)\n",
    "#     else:\n",
    "#         ac = np.argmax(cm)\n",
    "#         ar = np.argmax((sdk[:, ac]==0) * rm)\n",
    "#     return ar, ac"
   ]
  },
  {
   "cell_type": "code",
   "execution_count": null,
   "metadata": {},
   "outputs": [],
   "source": [
    "#given a 1D array arr, outputs the missing elements between 1 and 9\n",
    "def missingElements(arr):     #len of arr = 9\n",
    "    og = np.arange(1,10)\n",
    "    temp = np.zeros(9)\n",
    "    arr_nz = arr[arr>0]\n",
    "    temp[arr_nz-1] = arr_nz\n",
    "    miss_el = og - temp\n",
    "    return miss_el[miss_el>0]"
   ]
  },
  {
   "cell_type": "code",
   "execution_count": null,
   "metadata": {},
   "outputs": [],
   "source": [
    "def fill(r,c):\n",
    "    global fishy\n",
    "    rx, ry = int(r/3), int(c/3)\n",
    "    block = sdk[3*rx:3*(rx+1), 3*ry:3*(ry+1)].flatten()\n",
    "    mblock = missingElements(block)\n",
    "    mer = missingElements(sdk[r])\n",
    "    mec = missingElements(sdk[:,c])\n",
    "#     print(mer,mec,mblock)\n",
    "    val = np.intersect1d(np.intersect1d(mblock,mer),mec)\n",
    "    if len(val)>1:\n",
    "#         sdk[r,c] = val[0]\n",
    "        fishy = True\n",
    "#         print('fishy')\n",
    "    else:\n",
    "        sdk[r,c] = val[0]"
   ]
  },
  {
   "cell_type": "code",
   "execution_count": null,
   "metadata": {},
   "outputs": [],
   "source": [
    "num_fill = np.count_nonzero(sdk)\n",
    "num_pass = 0\n",
    "print(\"og sdk : \\n\",sdk)\n",
    "while num_fill < 81 and num_pass<81:\n",
    "    num_pass+=1\n",
    "    for i in range(9):\n",
    "        for j in range(9):\n",
    "            if sdk[i,j] == 0:\n",
    "                fill(i,j)\n",
    "    if num_fill==np.count_nonzero(sdk):\n",
    "        print(\"Pass Failed, Exiting.\")\n",
    "        break;\n",
    "    else:num_fill = np.count_nonzero(sdk)\n",
    "    print(\"pass : \",num_pass)\n",
    "    print(sdk)"
   ]
  },
  {
   "cell_type": "code",
   "execution_count": null,
   "metadata": {},
   "outputs": [],
   "source": [
    "sdk"
   ]
  },
  {
   "cell_type": "code",
   "execution_count": null,
   "metadata": {},
   "outputs": [],
   "source": [
    "np.count_nonzero(sdk)"
   ]
  },
  {
   "cell_type": "code",
   "execution_count": null,
   "metadata": {},
   "outputs": [],
   "source": []
  },
  {
   "cell_type": "code",
   "execution_count": null,
   "metadata": {
    "scrolled": true
   },
   "outputs": [],
   "source": [
    "sdk"
   ]
  },
  {
   "cell_type": "code",
   "execution_count": null,
   "metadata": {
    "scrolled": true
   },
   "outputs": [],
   "source": [
    "num_fill = np.count_nonzero(sdk) \n",
    "fishy = False\n",
    "while num_fill < 81 and not fishy:\n",
    "    x, y = whatToFill()\n",
    "    print(x,y)\n",
    "    fill(x,y)\n",
    "    num_fill = np.count_nonzero(sdk)"
   ]
  },
  {
   "cell_type": "code",
   "execution_count": null,
   "metadata": {},
   "outputs": [],
   "source": [
    "sdk"
   ]
  },
  {
   "cell_type": "code",
   "execution_count": null,
   "metadata": {},
   "outputs": [],
   "source": [
    "np.count_nonzero(sdk)"
   ]
  },
  {
   "cell_type": "code",
   "execution_count": null,
   "metadata": {},
   "outputs": [],
   "source": [
    "arr = sdk\n",
    "rm = np.count_nonzero(arr, axis = 1)\n",
    "cm = np.count_nonzero(arr, axis = 0)\n",
    "rm[rm==9] = 0\n",
    "cm[cm==9] = 0\n",
    "print(rm,cm)\n",
    "if np.max(rm) >= np.max(cm):\n",
    "    ar = np.argmax(rm)\n",
    "    ac = np.argmax((sdk[ar]==0) * cm)\n",
    "else:\n",
    "    ac = np.argmax(cm)\n",
    "    ar = np.argmax((sdk[:, ac]==0) * rm)\n",
    "print(ar, ac)"
   ]
  },
  {
   "cell_type": "code",
   "execution_count": null,
   "metadata": {},
   "outputs": [],
   "source": []
  },
  {
   "cell_type": "code",
   "execution_count": null,
   "metadata": {},
   "outputs": [],
   "source": []
  },
  {
   "cell_type": "code",
   "execution_count": null,
   "metadata": {},
   "outputs": [],
   "source": [
    "missingElements(sdk[1])"
   ]
  },
  {
   "cell_type": "code",
   "execution_count": 1,
   "metadata": {},
   "outputs": [],
   "source": [
    "a = [[8,0,0,9,0,0,3,0,0],\n",
    "                [1,9,3,4,0,0,0,0,8],\n",
    "                [0,0,0,0,8,0,0,9,7],\n",
    "                [0,5,0,7,0,4,2,0,0],\n",
    "                [0,1,2,0,0,0,7,3,0],\n",
    "                [0,4,9,0,3,2,6,0,0],\n",
    "                [0,0,5,8,7,0,9,0,0],\n",
    "                [2,0,6,0,0,0,8,5,1],\n",
    "                [9,0,0,2,0,6,4,0,3]]"
   ]
  },
  {
   "cell_type": "code",
   "execution_count": 3,
   "metadata": {},
   "outputs": [
    {
     "ename": "TypeError",
     "evalue": "list indices must be integers or slices, not tuple",
     "output_type": "error",
     "traceback": [
      "\u001b[1;31m---------------------------------------------------------------------------\u001b[0m",
      "\u001b[1;31mTypeError\u001b[0m                                 Traceback (most recent call last)",
      "\u001b[1;32m<ipython-input-3-140fc7631e6a>\u001b[0m in \u001b[0;36m<module>\u001b[1;34m\u001b[0m\n\u001b[1;32m----> 1\u001b[1;33m \u001b[0ma\u001b[0m\u001b[1;33m[\u001b[0m\u001b[1;33m:\u001b[0m\u001b[1;33m,\u001b[0m\u001b[1;36m1\u001b[0m\u001b[1;33m]\u001b[0m\u001b[1;33m\u001b[0m\u001b[1;33m\u001b[0m\u001b[0m\n\u001b[0m",
      "\u001b[1;31mTypeError\u001b[0m: list indices must be integers or slices, not tuple"
     ]
    }
   ],
   "source": [
    "a[:,1]"
   ]
  },
  {
   "cell_type": "code",
   "execution_count": null,
   "metadata": {},
   "outputs": [],
   "source": []
  }
 ],
 "metadata": {
  "kernelspec": {
   "display_name": "Python 3",
   "language": "python",
   "name": "python3"
  },
  "language_info": {
   "codemirror_mode": {
    "name": "ipython",
    "version": 3
   },
   "file_extension": ".py",
   "mimetype": "text/x-python",
   "name": "python",
   "nbconvert_exporter": "python",
   "pygments_lexer": "ipython3",
   "version": "3.8.6"
  }
 },
 "nbformat": 4,
 "nbformat_minor": 4
}
