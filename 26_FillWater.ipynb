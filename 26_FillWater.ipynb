{
 "cells": [
  {
   "cell_type": "code",
   "execution_count": 42,
   "metadata": {},
   "outputs": [],
   "source": [
    "import numpy as np\n",
    "a = [3,0,1,1,1,1]\n",
    "# a = [5,4,3,2,1,1]\n",
    "# a = [3,2,1,0,1,5,0,1]\n",
    "# a=[0,1,0,2,1,0,1,3,2,1,2,1,1]\n",
    "a = [7,2,1,4,5]"
   ]
  },
  {
   "cell_type": "code",
   "execution_count": 43,
   "metadata": {
    "scrolled": true
   },
   "outputs": [
    {
     "name": "stdout",
     "output_type": "stream",
     "text": [
      "0 5\n",
      "0 11\n",
      "3 11\n",
      "4 12\n"
     ]
    },
    {
     "data": {
      "text/plain": [
       "4"
      ]
     },
     "execution_count": 43,
     "metadata": {},
     "output_type": "execute_result"
    }
   ],
   "source": [
    "fill = 0\n",
    "tm = a[0]\n",
    "deficit = 0\n",
    "for i in range(1,len(a)):\n",
    "    if a[i] < tm:\n",
    "        deficit+=tm-a[i]\n",
    "        if a[i]>a[i-1]:      #if profile is increasing\n",
    "            fill+=a[i] - a[i-1]\n",
    "            deficit-=a[i] - a[i-1]\n",
    "    else:\n",
    "        tm = a[i]\n",
    "        fill += deficit\n",
    "        deficit = 0\n",
    "    tm = max(tm, a[i])\n",
    "    print(fill, deficit)\n",
    "fill"
   ]
  },
  {
   "cell_type": "code",
   "execution_count": 44,
   "metadata": {},
   "outputs": [
    {
     "data": {
      "text/plain": [
       "array([[1., 0., 0., 0., 0.],\n",
       "       [1., 0., 0., 0., 0.],\n",
       "       [1., 0., 0., 0., 1.],\n",
       "       [1., 0., 0., 1., 1.],\n",
       "       [1., 0., 0., 1., 1.],\n",
       "       [1., 1., 0., 1., 1.],\n",
       "       [1., 1., 1., 1., 1.]])"
      ]
     },
     "execution_count": 44,
     "metadata": {},
     "output_type": "execute_result"
    }
   ],
   "source": [
    "#visualize\n",
    "ab = np.zeros((max(a), len(a)))\n",
    "for i in range(len(a)):\n",
    "    if a[i]!=0:\n",
    "        ab[-1*a[i]:,i] = 1\n",
    "ab"
   ]
  },
  {
   "cell_type": "code",
   "execution_count": null,
   "metadata": {},
   "outputs": [],
   "source": [
    "ht = a[0]\n",
    "wf = 0\n",
    "for i in range(1, len(a)):\n",
    "    ht += \n",
    "    "
   ]
  },
  {
   "cell_type": "code",
   "execution_count": 5,
   "metadata": {},
   "outputs": [
    {
     "data": {
      "text/plain": [
       "array([0., 0., 0.])"
      ]
     },
     "execution_count": 5,
     "metadata": {},
     "output_type": "execute_result"
    }
   ],
   "source": [
    "ab[:3,0]"
   ]
  },
  {
   "cell_type": "code",
   "execution_count": null,
   "metadata": {},
   "outputs": [],
   "source": []
  }
 ],
 "metadata": {
  "kernelspec": {
   "display_name": "Python 3",
   "language": "python",
   "name": "python3"
  },
  "language_info": {
   "codemirror_mode": {
    "name": "ipython",
    "version": 3
   },
   "file_extension": ".py",
   "mimetype": "text/x-python",
   "name": "python",
   "nbconvert_exporter": "python",
   "pygments_lexer": "ipython3",
   "version": "3.8.6"
  }
 },
 "nbformat": 4,
 "nbformat_minor": 4
}
