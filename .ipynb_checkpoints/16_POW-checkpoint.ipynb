{
 "cells": [
  {
   "cell_type": "code",
   "execution_count": 120,
   "metadata": {},
   "outputs": [],
   "source": [
    "def con_pow(x,y):\n",
    "    e = x\n",
    "    if y == 0:\n",
    "        return 1\n",
    "    for i in range(1,y):\n",
    "        e = e*x\n",
    "    return e    "
   ]
  },
  {
   "cell_type": "code",
   "execution_count": 175,
   "metadata": {},
   "outputs": [],
   "source": [
    "def powow(x,y):\n",
    "#     if y<45:\n",
    "#         return con_pow(x,y)\n",
    "# x =2 \n",
    "# y =10\n",
    "    sq = 0\n",
    "    for i in range(y):\n",
    "        if y<(i*i):\n",
    "            sq = i-1\n",
    "            break;\n",
    "#     print(sq)\n",
    "    if sq<4:\n",
    "#         print(\"sq \",sq, x, y)\n",
    "        return con_pow(x,y)\n",
    "    else:\n",
    "        A = powow(x, sq)\n",
    "        B = powow(A, sq)\n",
    "        C = powow(x, y- sq*sq)\n",
    "#         print(A,B,C)\n",
    "        return B*C\n",
    "#         return powow(powow(x, sq),sq) * powow(x, y- sq*sq)\n",
    "# print(con_pow(con_pow(x, sq),sq) * con_pow(x, y- sq*sq))\n",
    "# sq\n",
    "#     return con_pow(con_pow(x, sq),sq) * con_pow(x, y- sq*sq)"
   ]
  },
  {
   "cell_type": "code",
   "execution_count": 184,
   "metadata": {},
   "outputs": [
    {
     "name": "stdout",
     "output_type": "stream",
     "text": [
      "37.5 µs ± 212 ns per loop (mean ± std. dev. of 7 runs, 10000 loops each)\n"
     ]
    }
   ],
   "source": [
    "%timeit powow(2,3200)"
   ]
  },
  {
   "cell_type": "code",
   "execution_count": 185,
   "metadata": {},
   "outputs": [
    {
     "name": "stdout",
     "output_type": "stream",
     "text": [
      "491 µs ± 53.6 µs per loop (mean ± std. dev. of 7 runs, 1000 loops each)\n"
     ]
    }
   ],
   "source": [
    "%timeit con_pow(2,3200)"
   ]
  },
  {
   "cell_type": "code",
   "execution_count": 183,
   "metadata": {},
   "outputs": [
    {
     "name": "stdout",
     "output_type": "stream",
     "text": [
      "217 ns ± 9.95 ns per loop (mean ± std. dev. of 7 runs, 1000000 loops each)\n"
     ]
    }
   ],
   "source": [
    "import math\n",
    "%timeit math.pow(2,350)"
   ]
  },
  {
   "cell_type": "code",
   "execution_count": null,
   "metadata": {},
   "outputs": [],
   "source": []
  }
 ],
 "metadata": {
  "kernelspec": {
   "display_name": "Python 3",
   "language": "python",
   "name": "python3"
  },
  "language_info": {
   "codemirror_mode": {
    "name": "ipython",
    "version": 3
   },
   "file_extension": ".py",
   "mimetype": "text/x-python",
   "name": "python",
   "nbconvert_exporter": "python",
   "pygments_lexer": "ipython3",
   "version": "3.8.6"
  }
 },
 "nbformat": 4,
 "nbformat_minor": 4
}
