{
 "cells": [
  {
   "cell_type": "code",
   "execution_count": null,
   "metadata": {},
   "outputs": [],
   "source": [
    "import numpy as np\n",
    "a = np.array([15,5,20,10,35,15,10])\n",
    "# a = np.array([15,30,10,40,15,10])\n",
    "# a = np.array([15,5,20,10,35])\n",
    "np.sum(a)"
   ]
  },
  {
   "cell_type": "code",
   "execution_count": null,
   "metadata": {},
   "outputs": [],
   "source": [
    "def findSubset(halfsum, s_arr, n):\n",
    "    if halfsum in s_arr:\n",
    "        return True\n",
    "    if halfsum<0 or len(s_arr) == 0:\n",
    "        return False\n",
    "    \n",
    "    if findSubset(halfsum-s_arr[n-1], s_arr[:n-1], n-1) or findSubset(halfsum,s_arr[:n-1], n-1):\n",
    "        return True\n",
    "    else:\n",
    "        return False\n",
    "findSubset(np.sum(a)/2, a, len(a))"
   ]
  },
  {
   "cell_type": "code",
   "execution_count": null,
   "metadata": {},
   "outputs": [],
   "source": []
  }
 ],
 "metadata": {
  "kernelspec": {
   "display_name": "Python 3",
   "language": "python",
   "name": "python3"
  },
  "language_info": {
   "codemirror_mode": {
    "name": "ipython",
    "version": 3
   },
   "file_extension": ".py",
   "mimetype": "text/x-python",
   "name": "python",
   "nbconvert_exporter": "python",
   "pygments_lexer": "ipython3",
   "version": "3.8.6"
  }
 },
 "nbformat": 4,
 "nbformat_minor": 4
}
