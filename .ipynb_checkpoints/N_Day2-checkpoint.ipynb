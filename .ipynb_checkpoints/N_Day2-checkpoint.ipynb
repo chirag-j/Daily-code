{
 "cells": [
  {
   "cell_type": "code",
   "execution_count": 1,
   "metadata": {},
   "outputs": [],
   "source": [
    "import numpy as np\n",
    "import pandas as pd\n",
    "import math"
   ]
  },
  {
   "cell_type": "code",
   "execution_count": 18,
   "metadata": {},
   "outputs": [],
   "source": [
    "N = 5\n",
    "step = np.array([1,3,5])"
   ]
  },
  {
   "cell_type": "code",
   "execution_count": 19,
   "metadata": {},
   "outputs": [],
   "source": [
    "step = step.reshape(len(step),1)\n",
    "x = np.zeros([len(step),1], np.float32)"
   ]
  },
  {
   "cell_type": "code",
   "execution_count": 15,
   "metadata": {},
   "outputs": [],
   "source": [
    "def compute_x0(x,n,s):\n",
    "    x1 = x[1:].T\n",
    "    s1 = s[1:]\n",
    "    temp = (n - x1.dot(s1))/s[0]\n",
    "    return temp[0,0]"
   ]
  },
  {
   "cell_type": "code",
   "execution_count": 16,
   "metadata": {},
   "outputs": [],
   "source": [
    "def factorial_prod(array):\n",
    "    fac = np.array([math.factorial(int(el)) for el in array])\n",
    "    return np.prod(fac)"
   ]
  },
  {
   "cell_type": "code",
   "execution_count": 20,
   "metadata": {},
   "outputs": [
    {
     "name": "stdout",
     "output_type": "stream",
     "text": [
      "5.0 [5.] [0.] [0.]\n",
      "count  1\n",
      "2.0 [2.] [1.] [0.]\n",
      "count  4.0\n",
      "-1.0 [-1.] [2.] [0.]\n",
      "lmao\n",
      "0.0 [0.] [0.] [1.]\n",
      "count  5.0\n",
      "-3.0 [-3.] [1.] [1.]\n",
      "lmao\n",
      "-5.0 [-5.] [0.] [2.]\n",
      "lmao\n",
      "-10.0 [-10.] [0.] [3.]\n",
      "lmao\n",
      "-15.0 [-15.] [0.] [4.]\n",
      "lmao\n"
     ]
    },
    {
     "data": {
      "text/plain": [
       "5.0"
      ]
     },
     "execution_count": 20,
     "metadata": {},
     "output_type": "execute_result"
    }
   ],
   "source": [
    "count = 0\n",
    "for i in range(0, N):\n",
    "    x[2] = i\n",
    "    for j in range(0, N):\n",
    "        x[1] = j\n",
    "        temp = compute_x0(x, N, step)\n",
    "        x[0] = temp\n",
    "        print(temp, x[0], x[1], x[2])\n",
    "        if temp<0:\n",
    "            print('lmao')\n",
    "            break;\n",
    "        if temp.is_integer():\n",
    "            if(np.sum(x>0) > 1):\n",
    "                non_zero_x = x[x>0]\n",
    "                no_pos = int(np.sum(x))\n",
    "                no_ways = math.factorial(no_pos)/factorial_prod(non_zero_x)\n",
    "                count = count + no_ways\n",
    "                print(\"count \", count)\n",
    "            else:\n",
    "                count=count+np.sum(x>0)\n",
    "                print(\"count \", count)\n",
    "count"
   ]
  },
  {
   "cell_type": "code",
   "execution_count": 17,
   "metadata": {
    "scrolled": true
   },
   "outputs": [
    {
     "data": {
      "text/plain": [
       "14.0"
      ]
     },
     "execution_count": 17,
     "metadata": {},
     "output_type": "execute_result"
    }
   ],
   "source": [
    "count"
   ]
  },
  {
   "cell_type": "code",
   "execution_count": 6,
   "metadata": {
    "collapsed": true
   },
   "outputs": [
    {
     "name": "stdout",
     "output_type": "stream",
     "text": [
      "5.0 [5.] [0.] [0.]\n",
      "1\n",
      "3.5 [3.5] [1.] [0.]\n",
      "2.0 [2.] [2.] [0.]\n",
      "3\n",
      "0.5 [0.5] [3.] [0.]\n",
      "-1.0 [-1.] [4.] [0.]\n",
      "lmao\n",
      "2.5 [2.5] [0.] [1.]\n",
      "1.0 [1.] [1.] [1.]\n",
      "6\n",
      "-0.5 [-0.5] [2.] [1.]\n",
      "lmao\n",
      "0.0 [0.] [0.] [2.]\n",
      "7\n",
      "-1.5 [-1.5] [1.] [2.]\n",
      "lmao\n",
      "-2.5 [-2.5] [0.] [3.]\n",
      "lmao\n",
      "-5.0 [-5.] [0.] [4.]\n",
      "lmao\n",
      "-7.5 [-7.5] [0.] [5.]\n",
      "lmao\n",
      "-10.0 [-10.] [0.] [6.]\n",
      "lmao\n",
      "-12.5 [-12.5] [0.] [7.]\n",
      "lmao\n",
      "-15.0 [-15.] [0.] [8.]\n",
      "lmao\n",
      "-17.5 [-17.5] [0.] [9.]\n",
      "lmao\n"
     ]
    },
    {
     "data": {
      "text/plain": [
       "7"
      ]
     },
     "execution_count": 6,
     "metadata": {},
     "output_type": "execute_result"
    }
   ],
   "source": [
    "count = 0\n",
    "for i in range(0, N):\n",
    "    x[2] = i\n",
    "    for j in range(0, N):\n",
    "        x[1] = j\n",
    "        temp = compute_x0(x, N, step)\n",
    "        x[0] = temp\n",
    "        print(temp, x[0], x[1], x[2])\n",
    "        if temp<0:\n",
    "            print('lmao')\n",
    "            break;\n",
    "        if temp.is_integer():\n",
    "            count=count+np.sum(x>0)\n",
    "            print(count)\n",
    "count"
   ]
  },
  {
   "cell_type": "code",
   "execution_count": 9,
   "metadata": {},
   "outputs": [
    {
     "data": {
      "text/plain": [
       "array([[-17.5],\n",
       "       [  0. ],\n",
       "       [  9. ]], dtype=float32)"
      ]
     },
     "execution_count": 9,
     "metadata": {},
     "output_type": "execute_result"
    }
   ],
   "source": [
    "\n"
   ]
  },
  {
   "cell_type": "code",
   "execution_count": null,
   "metadata": {},
   "outputs": [],
   "source": []
  },
  {
   "cell_type": "code",
   "execution_count": null,
   "metadata": {},
   "outputs": [],
   "source": []
  },
  {
   "cell_type": "code",
   "execution_count": null,
   "metadata": {},
   "outputs": [],
   "source": []
  },
  {
   "cell_type": "code",
   "execution_count": null,
   "metadata": {},
   "outputs": [],
   "source": []
  },
  {
   "cell_type": "code",
   "execution_count": null,
   "metadata": {},
   "outputs": [],
   "source": []
  },
  {
   "cell_type": "code",
   "execution_count": null,
   "metadata": {},
   "outputs": [],
   "source": []
  },
  {
   "cell_type": "code",
   "execution_count": null,
   "metadata": {},
   "outputs": [],
   "source": []
  }
 ],
 "metadata": {
  "kernelspec": {
   "display_name": "Python 3",
   "language": "python",
   "name": "python3"
  },
  "language_info": {
   "codemirror_mode": {
    "name": "ipython",
    "version": 3
   },
   "file_extension": ".py",
   "mimetype": "text/x-python",
   "name": "python",
   "nbconvert_exporter": "python",
   "pygments_lexer": "ipython3",
   "version": "3.8.6"
  }
 },
 "nbformat": 4,
 "nbformat_minor": 4
}
