{
 "cells": [
  {
   "cell_type": "code",
   "execution_count": 1,
   "metadata": {},
   "outputs": [],
   "source": [
    "import numpy as np"
   ]
  },
  {
   "cell_type": "code",
   "execution_count": 39,
   "metadata": {},
   "outputs": [],
   "source": [
    "# msg = [1,1,1,7,2,2,2,8,1,7,2,5]\n",
    "msg = [2,2,2,7,1,1,1,3]\n",
    "# msg = [2,2,2,2,2,7,2,3,5,1,1,1]\n",
    "names = ' abcdefghijklmnopqrstuvwxyz'"
   ]
  },
  {
   "cell_type": "code",
   "execution_count": 40,
   "metadata": {},
   "outputs": [
    {
     "data": {
      "text/plain": [
       "'aaab'"
      ]
     },
     "execution_count": 40,
     "metadata": {},
     "output_type": "execute_result"
    }
   ],
   "source": [
    "code = ''\n",
    "for num in msg:\n",
    "    if num==0:\n",
    "        code = code[:len(code)-1]       #remove the last added element\n",
    "        code+=names[temp*10 + num]\n",
    "    else:\n",
    "        code+=names[num]\n",
    "    temp = num\n",
    "code"
   ]
  },
  {
   "cell_type": "code",
   "execution_count": 41,
   "metadata": {},
   "outputs": [],
   "source": [
    "#returns nth number of the fibonacci series\n",
    "def fib(n):\n",
    "    if n == 0:\n",
    "        return 0\n",
    "    elif n == 1:\n",
    "        return 1\n",
    "    else:\n",
    "        return fib(n-1) + fib(n-2)"
   ]
  },
  {
   "cell_type": "code",
   "execution_count": 43,
   "metadata": {},
   "outputs": [
    {
     "data": {
      "text/plain": [
       "3"
      ]
     },
     "execution_count": 43,
     "metadata": {},
     "output_type": "execute_result"
    }
   ],
   "source": [
    "ca = 0\n",
    "cb = 0\n",
    "count = []\n",
    "for c in code:\n",
    "    if c=='a':\n",
    "        ca+=1\n",
    "    elif c=='b':\n",
    "        cb+=1\n",
    "    else:\n",
    "        if ca>1:\n",
    "            count.append(fib(ca+1))\n",
    "        if cb>1:\n",
    "            count.append(fib(cb+1))\n",
    "        ca = 0\n",
    "        cb = 0\n",
    "if ca>1:\n",
    "    count.append(fib(ca+1))\n",
    "if cb>1:\n",
    "    count.append(fib(cb+1))\n",
    "count = np.prod(np.array(count))\n",
    "count"
   ]
  },
  {
   "cell_type": "code",
   "execution_count": 44,
   "metadata": {},
   "outputs": [
    {
     "data": {
      "text/plain": [
       "2"
      ]
     },
     "execution_count": 44,
     "metadata": {},
     "output_type": "execute_result"
    }
   ],
   "source": [
    "count2d = 1\n",
    "for i in range(len(msg)-1):\n",
    "    if msg[i]*10 + msg[i+1] <= 26 and msg[i+1]!=0 and msg[i] != msg[i+1]:\n",
    "        count2d+=1\n",
    "count2d"
   ]
  },
  {
   "cell_type": "code",
   "execution_count": 45,
   "metadata": {},
   "outputs": [
    {
     "data": {
      "text/plain": [
       "6"
      ]
     },
     "execution_count": 45,
     "metadata": {},
     "output_type": "execute_result"
    }
   ],
   "source": [
    "total = count*count2d\n",
    "total    #final answer"
   ]
  },
  {
   "cell_type": "code",
   "execution_count": null,
   "metadata": {},
   "outputs": [],
   "source": []
  },
  {
   "cell_type": "code",
   "execution_count": 27,
   "metadata": {},
   "outputs": [
    {
     "data": {
      "text/plain": [
       "8"
      ]
     },
     "execution_count": 27,
     "metadata": {},
     "output_type": "execute_result"
    }
   ],
   "source": [
    "fib(6)"
   ]
  },
  {
   "cell_type": "code",
   "execution_count": null,
   "metadata": {},
   "outputs": [],
   "source": []
  }
 ],
 "metadata": {
  "kernelspec": {
   "display_name": "Python 3",
   "language": "python",
   "name": "python3"
  },
  "language_info": {
   "codemirror_mode": {
    "name": "ipython",
    "version": 3
   },
   "file_extension": ".py",
   "mimetype": "text/x-python",
   "name": "python",
   "nbconvert_exporter": "python",
   "pygments_lexer": "ipython3",
   "version": "3.8.6"
  }
 },
 "nbformat": 4,
 "nbformat_minor": 4
}
