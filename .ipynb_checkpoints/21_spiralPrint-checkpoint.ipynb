{
 "cells": [
  {
   "cell_type": "code",
   "execution_count": 53,
   "metadata": {},
   "outputs": [
    {
     "data": {
      "text/plain": [
       "array([[ 1,  2,  3,  4,  5],\n",
       "       [ 6,  7,  8,  9, 10],\n",
       "       [11, 12, 13, 14, 15],\n",
       "       [16, 17, 18, 19, 20]])"
      ]
     },
     "execution_count": 53,
     "metadata": {},
     "output_type": "execute_result"
    }
   ],
   "source": [
    "import numpy as np\n",
    "a = np.array([[1,  2,  3,  4,  5],\n",
    "              [6,  7,  8,  9,  10],\n",
    "              [11, 12, 13, 14, 15],\n",
    "              [16, 17, 18, 19, 20]])\n",
    "# a = np.arange(80).reshape(8,10)\n",
    "a"
   ]
  },
  {
   "cell_type": "code",
   "execution_count": 54,
   "metadata": {},
   "outputs": [
    {
     "name": "stdout",
     "output_type": "stream",
     "text": [
      "1\n",
      "2\n",
      "3\n",
      "4\n",
      "5\n",
      "10\n",
      "15\n",
      "20\n",
      "19\n",
      "18\n",
      "17\n",
      "16\n",
      "11\n",
      "6\n",
      "7\n",
      "8\n",
      "9\n",
      "14\n",
      "13\n",
      "12\n"
     ]
    }
   ],
   "source": [
    "def print_border(arr):\n",
    "#     print(arr)\n",
    "    if len(arr) == 0:\n",
    "        pass\n",
    "    else:\n",
    "        for el in arr[0]:\n",
    "            print(el)\n",
    "        for el in arr[1:,-1]:\n",
    "            print(el)\n",
    "        for el in arr[-1,:-1][::-1]:\n",
    "            print(el)\n",
    "        for el in arr[1:-1, 0][::-1]:\n",
    "            print(el)\n",
    "        print_border(arr[1:-1, 1:-1])\n",
    "print_border(a)"
   ]
  },
  {
   "cell_type": "code",
   "execution_count": null,
   "metadata": {},
   "outputs": [],
   "source": []
  }
 ],
 "metadata": {
  "kernelspec": {
   "display_name": "Python 3",
   "language": "python",
   "name": "python3"
  },
  "language_info": {
   "codemirror_mode": {
    "name": "ipython",
    "version": 3
   },
   "file_extension": ".py",
   "mimetype": "text/x-python",
   "name": "python",
   "nbconvert_exporter": "python",
   "pygments_lexer": "ipython3",
   "version": "3.8.6"
  }
 },
 "nbformat": 4,
 "nbformat_minor": 4
}
