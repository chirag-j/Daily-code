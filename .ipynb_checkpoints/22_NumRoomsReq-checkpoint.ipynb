{
 "cells": [
  {
   "cell_type": "code",
   "execution_count": 77,
   "metadata": {},
   "outputs": [],
   "source": [
    "import numpy as np\n",
    "# ti = [[30,75],[0,50],[60,150],[70,150],[70,100]]\n",
    "ti = [[30,75],[0,50],[60,150],[70,150]]\n"
   ]
  },
  {
   "cell_type": "code",
   "execution_count": 78,
   "metadata": {},
   "outputs": [],
   "source": [
    "def overlaps(arr):\n",
    "    olp = []\n",
    "    cls = [[arr[0]]]\n",
    "    for i in range(1, len(arr)):\n",
    "        nrm = arr[i]\n",
    "        nlp = True\n",
    "        for rmi in cls:\n",
    "            append = True\n",
    "#             print(cls)\n",
    "            for rm in rmi:\n",
    "                if rm[0]<nrm[0]<rm[1]:\n",
    "                    olp.append([nrm[0],rm[1]])\n",
    "                elif rm[0]<nrm[1]<rm[1]:\n",
    "                    olp.append([rm[0],nrm[1]])\n",
    "#                 elif rm == nrm:\n",
    "#                     print(\"yes\")\n",
    "#                     rmi.append(rm)\n",
    "                else:\n",
    "                    append = False\n",
    "                    break\n",
    "            if append:\n",
    "                nlp = False\n",
    "                cls.append(rmi + [nrm])\n",
    "        if nlp:\n",
    "            cls.append([nrm])\n",
    "#             else:\n",
    "#                 cls.append([nrm])\n",
    "#     print(cls)\n",
    "    return cls"
   ]
  },
  {
   "cell_type": "code",
   "execution_count": 79,
   "metadata": {
    "scrolled": false
   },
   "outputs": [
    {
     "data": {
      "text/plain": [
       "3"
      ]
     },
     "execution_count": 79,
     "metadata": {},
     "output_type": "execute_result"
    }
   ],
   "source": [
    "br = overlaps(ti)\n",
    "c = 0\n",
    "for rows in br:\n",
    "    if len(rows)>c:\n",
    "        c = len(rows)\n",
    "c"
   ]
  },
  {
   "cell_type": "code",
   "execution_count": null,
   "metadata": {},
   "outputs": [],
   "source": []
  }
 ],
 "metadata": {
  "kernelspec": {
   "display_name": "Python 3",
   "language": "python",
   "name": "python3"
  },
  "language_info": {
   "codemirror_mode": {
    "name": "ipython",
    "version": 3
   },
   "file_extension": ".py",
   "mimetype": "text/x-python",
   "name": "python",
   "nbconvert_exporter": "python",
   "pygments_lexer": "ipython3",
   "version": "3.8.6"
  }
 },
 "nbformat": 4,
 "nbformat_minor": 4
}
