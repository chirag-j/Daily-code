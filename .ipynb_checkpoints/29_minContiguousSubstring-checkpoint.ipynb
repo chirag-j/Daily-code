{
 "cells": [
  {
   "cell_type": "code",
   "execution_count": null,
   "metadata": {},
   "outputs": [],
   "source": [
    "import numpy as np\n",
    "import pandas as pd"
   ]
  },
  {
   "cell_type": "code",
   "execution_count": null,
   "metadata": {},
   "outputs": [],
   "source": [
    "a = \"figehaeci\"\n",
    "b = list(\"aei\")\n",
    "c = []\n",
    "cnt = 0\n",
    "for i in range(0, len(a)):\n",
    "    if a[i] in b:\n",
    "        cnt+=1\n",
    "        c.append(\"\")\n",
    "    if cnt>0:\n",
    "        for j in range(0, len(c)):\n",
    "            for x in b: \n",
    "                if x not in c[j]:\n",
    "                    c[j]+=a[i]\n",
    "                    break\n",
    "        print(c)\n",
    "        \n",
    "for j in range(len(c)-1, -1, -1):\n",
    "    for x in b:\n",
    "        if x not in c[j]:\n",
    "            del c[j]\n",
    "            break;\n",
    "min(c, key = len)"
   ]
  },
  {
   "cell_type": "code",
   "execution_count": null,
   "metadata": {},
   "outputs": [],
   "source": []
  },
  {
   "cell_type": "code",
   "execution_count": null,
   "metadata": {},
   "outputs": [],
   "source": []
  }
 ],
 "metadata": {
  "kernelspec": {
   "display_name": "Python 3",
   "language": "python",
   "name": "python3"
  },
  "language_info": {
   "codemirror_mode": {
    "name": "ipython",
    "version": 3
   },
   "file_extension": ".py",
   "mimetype": "text/x-python",
   "name": "python",
   "nbconvert_exporter": "python",
   "pygments_lexer": "ipython3",
   "version": "3.8.6"
  }
 },
 "nbformat": 4,
 "nbformat_minor": 4
}
