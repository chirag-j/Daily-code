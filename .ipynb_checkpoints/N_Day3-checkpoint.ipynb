{
 "cells": [
  {
   "cell_type": "code",
   "execution_count": 1,
   "metadata": {},
   "outputs": [],
   "source": [
    "import numpy as np\n",
    "import pandas as pd\n",
    "from math import factorial"
   ]
  },
  {
   "cell_type": "code",
   "execution_count": 2,
   "metadata": {},
   "outputs": [
    {
     "data": {
      "text/plain": [
       "array([ 1,  1,  2,  5, 12, 61, 65])"
      ]
     },
     "execution_count": 2,
     "metadata": {},
     "output_type": "execute_result"
    }
   ],
   "source": [
    "s = np.array([12,1,61,5,2,1,90,65,73,88,100])\n",
    "k = 69\n",
    "\n",
    "s = np.sort(s[s<=k])\n",
    "s"
   ]
  },
  {
   "cell_type": "code",
   "execution_count": 5,
   "metadata": {},
   "outputs": [
    {
     "name": "stdout",
     "output_type": "stream",
     "text": [
      "7.0\n",
      "21.0\n",
      "35.0\n",
      "35.0\n",
      "[61  1  2  5]\n"
     ]
    }
   ],
   "source": [
    "get_out = False\n",
    "for j in range(1,len(s)+1):        #j - number of elements taken at a time\n",
    "    N = nCr(len(s), j)\n",
    "    print(N)\n",
    "    for i in range(int(N*10)):\n",
    "        rand_combo = np.random.choice(s,j, replace = False)\n",
    "        rand_sum = np.sum(rand_combo)\n",
    "        if rand_sum == k:\n",
    "            print(rand_combo)\n",
    "            get_out = True\n",
    "            break;\n",
    "    if(get_out):\n",
    "        break;\n",
    "if(not get_out):\n",
    "    print(\"Combination set is most probably null\")    #\n",
    "#         print(rand_sum)"
   ]
  },
  {
   "cell_type": "code",
   "execution_count": 4,
   "metadata": {},
   "outputs": [],
   "source": [
    "def nCr(n,r):\n",
    "    return factorial(n)/(factorial(n-r)*factorial(r))"
   ]
  },
  {
   "cell_type": "code",
   "execution_count": null,
   "metadata": {},
   "outputs": [],
   "source": []
  },
  {
   "cell_type": "code",
   "execution_count": null,
   "metadata": {},
   "outputs": [],
   "source": [
    "nCr(10,3) - nCr(10,7)"
   ]
  },
  {
   "cell_type": "code",
   "execution_count": 6,
   "metadata": {},
   "outputs": [
    {
     "data": {
      "text/plain": [
       "120.0"
      ]
     },
     "execution_count": 6,
     "metadata": {},
     "output_type": "execute_result"
    }
   ],
   "source": [
    "nCr(16,2)"
   ]
  },
  {
   "cell_type": "code",
   "execution_count": null,
   "metadata": {},
   "outputs": [],
   "source": []
  }
 ],
 "metadata": {
  "kernelspec": {
   "display_name": "Python 3",
   "language": "python",
   "name": "python3"
  },
  "language_info": {
   "codemirror_mode": {
    "name": "ipython",
    "version": 3
   },
   "file_extension": ".py",
   "mimetype": "text/x-python",
   "name": "python",
   "nbconvert_exporter": "python",
   "pygments_lexer": "ipython3",
   "version": "3.8.6"
  }
 },
 "nbformat": 4,
 "nbformat_minor": 4
}
