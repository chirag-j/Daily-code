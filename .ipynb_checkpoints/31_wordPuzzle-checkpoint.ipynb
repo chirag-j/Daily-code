{
 "cells": [
  {
   "cell_type": "code",
   "execution_count": 4,
   "metadata": {},
   "outputs": [],
   "source": [
    "import numpy as np"
   ]
  },
  {
   "cell_type": "code",
   "execution_count": 86,
   "metadata": {},
   "outputs": [],
   "source": [
    "def exists(board, word, index = \"Null\", lastIndex = \"Null\"):\n",
    "    if len(word) == 0:\n",
    "        print(\"True\", index)\n",
    "        return True\n",
    "    \n",
    "    if index == \"Null\":\n",
    "        for i in range(0, board.shape[0]):\n",
    "            for j in range(0, board.shape[1]):\n",
    "                if board[i,j] == word[0]:\n",
    "                    print(i,j)\n",
    "                    if exists(board, word[1:], index = [i,j], lastIndex = index):\n",
    "                        print(\"True\", [i,j], board[i,j])\n",
    "                        return True\n",
    "    else:\n",
    "        i, j = index\n",
    "        x = []\n",
    "        if i>0:\n",
    "            x.append([i-1,j])\n",
    "        if j>0:\n",
    "            x.append([i, j-1])\n",
    "        if i<board.shape[0]-1:\n",
    "            x.append([i+1, j])\n",
    "        if j<board.shape[1]-1:\n",
    "            x.append([i, j+1])\n",
    "            \n",
    "        for pos in x:\n",
    "            if board[pos[0], pos[1]] == word[0] and pos!=lastIndex:\n",
    "                print(pos)\n",
    "                if exists(board, word[1:], pos, lastIndex=index):\n",
    "                    print(\"True\", pos, board[pos[0], pos[1]])\n",
    "                    return True\n",
    "    return False"
   ]
  },
  {
   "cell_type": "code",
   "execution_count": 92,
   "metadata": {},
   "outputs": [
    {
     "name": "stdout",
     "output_type": "stream",
     "text": [
      "0 0\n",
      "[0, 1]\n",
      "[1, 1]\n",
      "[2, 1]\n",
      "[0, 2]\n",
      "2 0\n"
     ]
    },
    {
     "data": {
      "text/plain": [
       "False"
      ]
     },
     "execution_count": 92,
     "metadata": {},
     "output_type": "execute_result"
    }
   ],
   "source": [
    "board = np.array([['A','B','C','E'],\n",
    "                  ['S','C','C','S'],\n",
    "                  ['A','D','E','E']\n",
    "                 ])\n",
    "exists(board, \"ABCDD\")"
   ]
  },
  {
   "cell_type": "code",
   "execution_count": null,
   "metadata": {},
   "outputs": [],
   "source": []
  },
  {
   "cell_type": "code",
   "execution_count": null,
   "metadata": {},
   "outputs": [],
   "source": []
  },
  {
   "cell_type": "code",
   "execution_count": 93,
   "metadata": {},
   "outputs": [],
   "source": [
    "def exists(board, word, index = \"Null\"):\n",
    "    if len(word) == 0:\n",
    "        print(\"True\", index)\n",
    "#         print(lastIndex)\n",
    "        return True\n",
    "    \n",
    "    if index == \"Null\":\n",
    "        for i in range(0, board.shape[0]):\n",
    "            for j in range(0, board.shape[1]):\n",
    "                if board[i,j] == word[0]:\n",
    "                    print(i,j)\n",
    "                    if exists(board, word[1:], index = [[i,j]]):\n",
    "                        print(\"True\", [i,j], board[i,j])\n",
    "                        return True\n",
    "    else:\n",
    "        i, j = index[-1]\n",
    "        x = []\n",
    "        if i>0:\n",
    "            x.append([i-1,j])\n",
    "        if j>0:\n",
    "            x.append([i, j-1])\n",
    "        if i<board.shape[0]-1:\n",
    "            x.append([i+1, j])\n",
    "        if j<board.shape[1]-1:\n",
    "            x.append([i, j+1])\n",
    "            \n",
    "        for pos in x:\n",
    "            if board[pos[0], pos[1]] == word[0] and pos not in index:\n",
    "                print(pos)\n",
    "                index.append(pos)\n",
    "                if exists(board, word[1:], index):\n",
    "                    print(\"True\", pos, board[pos[0], pos[1]])\n",
    "                    return True\n",
    "                else:\n",
    "                    index.pop()\n",
    "    return False"
   ]
  },
  {
   "cell_type": "code",
   "execution_count": 100,
   "metadata": {},
   "outputs": [
    {
     "name": "stdout",
     "output_type": "stream",
     "text": [
      "0 0\n",
      "[1, 0]\n",
      "[1, 1]\n",
      "[2, 1]\n",
      "[2, 2]\n",
      "[1, 2]\n",
      "[0, 2]\n",
      "[0, 1]\n",
      "True [[0, 0], [1, 0], [1, 1], [2, 1], [2, 2], [1, 2], [0, 2], [0, 1]]\n",
      "True [0, 1] B\n",
      "True [0, 2] C\n",
      "True [1, 2] C\n",
      "True [2, 2] E\n",
      "True [2, 1] D\n",
      "True [1, 1] C\n",
      "True [1, 0] S\n",
      "True [0, 0] A\n"
     ]
    },
    {
     "data": {
      "text/plain": [
       "True"
      ]
     },
     "execution_count": 100,
     "metadata": {},
     "output_type": "execute_result"
    }
   ],
   "source": [
    "board = np.array([['A','B','C','E'],\n",
    "                  ['S','C','C','S'],\n",
    "                  ['A','D','E','E']\n",
    "                 ])\n",
    "exists(board, \"ASCDECCB\")"
   ]
  },
  {
   "cell_type": "code",
   "execution_count": 77,
   "metadata": {},
   "outputs": [],
   "source": [
    "xy = []\n",
    "xy.append([3,4])"
   ]
  },
  {
   "cell_type": "code",
   "execution_count": 72,
   "metadata": {},
   "outputs": [],
   "source": [
    "xy.append([3,5])"
   ]
  },
  {
   "cell_type": "code",
   "execution_count": 80,
   "metadata": {},
   "outputs": [
    {
     "data": {
      "text/plain": [
       "[[3, 4]]"
      ]
     },
     "execution_count": 80,
     "metadata": {},
     "output_type": "execute_result"
    }
   ],
   "source": [
    "xy"
   ]
  },
  {
   "cell_type": "code",
   "execution_count": 75,
   "metadata": {},
   "outputs": [
    {
     "data": {
      "text/plain": [
       "[3, 5]"
      ]
     },
     "execution_count": 75,
     "metadata": {},
     "output_type": "execute_result"
    }
   ],
   "source": [
    "xy.pop()"
   ]
  },
  {
   "cell_type": "code",
   "execution_count": null,
   "metadata": {},
   "outputs": [],
   "source": []
  }
 ],
 "metadata": {
  "kernelspec": {
   "display_name": "Python 3",
   "language": "python",
   "name": "python3"
  },
  "language_info": {
   "codemirror_mode": {
    "name": "ipython",
    "version": 3
   },
   "file_extension": ".py",
   "mimetype": "text/x-python",
   "name": "python",
   "nbconvert_exporter": "python",
   "pygments_lexer": "ipython3",
   "version": "3.8.6"
  }
 },
 "nbformat": 4,
 "nbformat_minor": 4
}
