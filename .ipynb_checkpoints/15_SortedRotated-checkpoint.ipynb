{
 "cells": [
  {
   "cell_type": "code",
   "execution_count": null,
   "metadata": {},
   "outputs": [],
   "source": [
    "import numpy as np"
   ]
  },
  {
   "cell_type": "code",
   "execution_count": null,
   "metadata": {},
   "outputs": [],
   "source": [
    "a = np.array([12,13, 18, 25, 2, 8, 10])\n",
    "k = 25\n",
    "\n",
    "\n",
    "spos = len(a[a<k])\n",
    "nr = 0\n",
    "while(a[spos] != k):\n",
    "    nr+=1\n",
    "    a = np.roll(a,-1)\n",
    "\n",
    "# print(spos,nr,len(a))\n",
    "\n",
    "if spos+nr < len(a):\n",
    "    print(spos+nr)\n",
    "else:\n",
    "    print(spos+nr-len(a))"
   ]
  },
  {
   "cell_type": "code",
   "execution_count": null,
   "metadata": {},
   "outputs": [],
   "source": []
  },
  {
   "cell_type": "code",
   "execution_count": null,
   "metadata": {},
   "outputs": [],
   "source": []
  }
 ],
 "metadata": {
  "kernelspec": {
   "display_name": "Python 3",
   "language": "python",
   "name": "python3"
  },
  "language_info": {
   "codemirror_mode": {
    "name": "ipython",
    "version": 3
   },
   "file_extension": ".py",
   "mimetype": "text/x-python",
   "name": "python",
   "nbconvert_exporter": "python",
   "pygments_lexer": "ipython3",
   "version": "3.8.6"
  }
 },
 "nbformat": 4,
 "nbformat_minor": 4
}
