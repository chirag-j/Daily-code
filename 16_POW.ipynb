{
 "cells": [
  {
   "cell_type": "code",
   "execution_count": 2,
   "metadata": {},
   "outputs": [],
   "source": [
    "def con_pow(x,y):\n",
    "    e = x\n",
    "    if y == 0:\n",
    "        return 1\n",
    "    for i in range(1,y):\n",
    "        e = e*x\n",
    "    return e    "
   ]
  },
  {
   "cell_type": "code",
   "execution_count": 20,
   "metadata": {},
   "outputs": [],
   "source": [
    "def powow(x,y):\n",
    "#     if y<45:\n",
    "#         return con_pow(x,y)\n",
    "# x =2 \n",
    "# y =10\n",
    "    sq = 0\n",
    "    for i in range(y):\n",
    "        if y<(i*i):\n",
    "            sq = i-1\n",
    "            break;\n",
    "#     print(sq)\n",
    "    if sq<50:\n",
    "#         print(\"sq \",sq, x, y)\n",
    "        return power(x,y)\n",
    "    else:\n",
    "        A = powow(x, sq)\n",
    "        B = powow(A, sq)\n",
    "        C = powow(x, y- sq*sq)\n",
    "#         print(A,B,C)\n",
    "        return B*C\n",
    "#         return powow(powow(x, sq),sq) * powow(x, y- sq*sq)\n",
    "# print(con_pow(con_pow(x, sq),sq) * con_pow(x, y- sq*sq))\n",
    "# sq\n",
    "#     return con_pow(con_pow(x, sq),sq) * con_pow(x, y- sq*sq)"
   ]
  },
  {
   "cell_type": "code",
   "execution_count": 21,
   "metadata": {},
   "outputs": [
    {
     "data": {
      "text/plain": [
       "1976906478982563993654226439837963340315390682625773828918265710158340601093951126756295848974613063099294244703164628428967968057547050608904859234600159014229329102195101574081057061661948106884800321129818693914608845281661462333814326544389741164009367602548103882724187831587394954463183137735657307019637359169290834318700453890617892714561362370427388384101316010134426924662084888461376218489653794242999053891151382465888482003300085676110173467997003494159830094271947506024974271953414706038068210170338961663202839203641120865263292248718692924915189291455200665479606951612257868495299167071771306894428954788679149900427954823300393640007649397742106635573828425752730305375232721339803871889299281134208211131341001135605446809477409979279627213188610112867929569789492640465736633925065052540962862027736312499143902692033755536952046162410311395501619568814547777271031259247973250866583116853615908352881305587297178183145388745781297002238181376"
      ]
     },
     "execution_count": 21,
     "metadata": {},
     "output_type": "execute_result"
    }
   ],
   "source": [
    "powow(2,3200)"
   ]
  },
  {
   "cell_type": "code",
   "execution_count": 22,
   "metadata": {},
   "outputs": [
    {
     "name": "stdout",
     "output_type": "stream",
     "text": [
      "508 µs ± 23.3 µs per loop (mean ± std. dev. of 7 runs, 1000 loops each)\n"
     ]
    }
   ],
   "source": [
    "%timeit con_pow(2,3200)"
   ]
  },
  {
   "cell_type": "code",
   "execution_count": 10,
   "metadata": {},
   "outputs": [
    {
     "data": {
      "text/plain": [
       "512"
      ]
     },
     "execution_count": 10,
     "metadata": {},
     "output_type": "execute_result"
    }
   ],
   "source": [
    "def power(x,y):\n",
    "    \n",
    "    if(y==0):\n",
    "        return 1\n",
    "    elif(x==0 or x==1 or y==1):\n",
    "        return x\n",
    "    elif(x==-1):\n",
    "        if(y%2 == 0):\n",
    "            return 1\n",
    "        else:\n",
    "            return -1\n",
    "    elif(y>0):\n",
    "        if(y%2 == 0):\n",
    "            temp = power(x,y/2)\n",
    "            return temp*temp\n",
    "        else:\n",
    "            return x*power(x,y-1)\n",
    "    else:\n",
    "        return power(1/x,-y)\n",
    "        \n",
    "power(2,9)"
   ]
  },
  {
   "cell_type": "code",
   "execution_count": 17,
   "metadata": {},
   "outputs": [
    {
     "name": "stdout",
     "output_type": "stream",
     "text": [
      "8.08 µs ± 161 ns per loop (mean ± std. dev. of 7 runs, 100000 loops each)\n"
     ]
    }
   ],
   "source": [
    "%timeit power(2,3200)"
   ]
  },
  {
   "cell_type": "code",
   "execution_count": null,
   "metadata": {},
   "outputs": [],
   "source": []
  }
 ],
 "metadata": {
  "kernelspec": {
   "display_name": "Python 3",
   "language": "python",
   "name": "python3"
  },
  "language_info": {
   "codemirror_mode": {
    "name": "ipython",
    "version": 3
   },
   "file_extension": ".py",
   "mimetype": "text/x-python",
   "name": "python",
   "nbconvert_exporter": "python",
   "pygments_lexer": "ipython3",
   "version": "3.8.6"
  }
 },
 "nbformat": 4,
 "nbformat_minor": 4
}
