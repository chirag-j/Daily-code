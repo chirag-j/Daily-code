{
 "cells": [
  {
   "cell_type": "code",
   "execution_count": 1,
   "metadata": {},
   "outputs": [],
   "source": [
    "import numpy as np"
   ]
  },
  {
   "cell_type": "code",
   "execution_count": 2,
   "metadata": {},
   "outputs": [],
   "source": [
    "a = np.array([4,-5,4,6,-10,8])"
   ]
  },
  {
   "cell_type": "code",
   "execution_count": 3,
   "metadata": {},
   "outputs": [
    {
     "name": "stdout",
     "output_type": "stream",
     "text": [
      "[4 6] 10\n"
     ]
    }
   ],
   "source": [
    "c = len(a)\n",
    "sum_arr = 0\n",
    "sum_v = 0\n",
    "for i in range(1, len(a)+1):\n",
    "    for j in range(0,c):\n",
    "        subset = a[j:j+i]\n",
    "#         print(subset)\n",
    "        if np.sum(subset)>sum_v:\n",
    "            sum_v = np.sum(subset)\n",
    "            sum_arr = subset\n",
    "    c-=1\n",
    "print(sum_arr,sum_v)"
   ]
  },
  {
   "cell_type": "code",
   "execution_count": null,
   "metadata": {},
   "outputs": [],
   "source": []
  }
 ],
 "metadata": {
  "kernelspec": {
   "display_name": "Python 3",
   "language": "python",
   "name": "python3"
  },
  "language_info": {
   "codemirror_mode": {
    "name": "ipython",
    "version": 3
   },
   "file_extension": ".py",
   "mimetype": "text/x-python",
   "name": "python",
   "nbconvert_exporter": "python",
   "pygments_lexer": "ipython3",
   "version": "3.8.6"
  }
 },
 "nbformat": 4,
 "nbformat_minor": 4
}
