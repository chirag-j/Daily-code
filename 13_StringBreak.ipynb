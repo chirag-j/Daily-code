{
 "cells": [
  {
   "cell_type": "code",
   "execution_count": 8,
   "metadata": {},
   "outputs": [],
   "source": [
    "s = \"the quickbrownfox jumps over the lazy dog\"\n",
    "k = 10"
   ]
  },
  {
   "cell_type": "code",
   "execution_count": 9,
   "metadata": {},
   "outputs": [
    {
     "data": {
      "text/plain": [
       "['the', 'quickbrownfox', 'jumps over', 'the lazy', 'dog']"
      ]
     },
     "execution_count": 9,
     "metadata": {},
     "output_type": "execute_result"
    }
   ],
   "source": [
    "ss = []\n",
    "words = []\n",
    "pi = 0\n",
    "for i in range(len(s)):\n",
    "    if s[i] == \" \":\n",
    "        words.append(s[pi:i])\n",
    "        pi = i\n",
    "words.append(s[pi:])   #last word\n",
    "seg = \"\"\n",
    "for w in words:\n",
    "    if len(seg+w)>k:\n",
    "        ss.append(seg)\n",
    "        seg=w[1:]\n",
    "    else:\n",
    "        seg+=w\n",
    "ss.append(seg)    #last segment\n",
    "\n",
    "ss"
   ]
  },
  {
   "cell_type": "code",
   "execution_count": null,
   "metadata": {},
   "outputs": [],
   "source": [
    " "
   ]
  },
  {
   "cell_type": "code",
   "execution_count": 7,
   "metadata": {},
   "outputs": [
    {
     "data": {
      "text/plain": [
       "['the', ' quick', ' brown', ' fox', ' jumps', ' over', ' the', ' lazy', ' dog']"
      ]
     },
     "execution_count": 7,
     "metadata": {},
     "output_type": "execute_result"
    }
   ],
   "source": [
    "words"
   ]
  },
  {
   "cell_type": "code",
   "execution_count": null,
   "metadata": {},
   "outputs": [],
   "source": []
  }
 ],
 "metadata": {
  "kernelspec": {
   "display_name": "Python 3",
   "language": "python",
   "name": "python3"
  },
  "language_info": {
   "codemirror_mode": {
    "name": "ipython",
    "version": 3
   },
   "file_extension": ".py",
   "mimetype": "text/x-python",
   "name": "python",
   "nbconvert_exporter": "python",
   "pygments_lexer": "ipython3",
   "version": "3.8.6"
  }
 },
 "nbformat": 4,
 "nbformat_minor": 4
}
