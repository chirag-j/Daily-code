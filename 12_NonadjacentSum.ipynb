{
 "cells": [
  {
   "cell_type": "code",
   "execution_count": 1,
   "metadata": {},
   "outputs": [],
   "source": [
    "import numpy as np"
   ]
  },
  {
   "cell_type": "code",
   "execution_count": 1,
   "metadata": {},
   "outputs": [],
   "source": [
    "a = [2,4,6,2,5]\n",
    "# a = [10,-5,-6,6,10,8,2,0,6,25,5]\n",
    "# a = [5,1,1,5]"
   ]
  },
  {
   "cell_type": "code",
   "execution_count": 8,
   "metadata": {},
   "outputs": [
    {
     "name": "stdout",
     "output_type": "stream",
     "text": [
      "4\n",
      "8\n",
      "8\n",
      "9\n"
     ]
    }
   ],
   "source": [
    "\n",
    "input_list = [10,-5,-6,6,10,8]\n",
    "input_list = [2,4,6,2,1]\n",
    "# input_list = [5,1,1,5]\n",
    "# input_list = [10,-5,-6,6,10,8,2,0,6,25,5]\n",
    "# input_list = [-34,50,42,-14,5,86,2]\n",
    "\n",
    "t1 = input_list[0]\n",
    "t = 0\n",
    "\n",
    "for i in range(1,len(input_list)):\n",
    "    t3 = max(t1,t+input_list[i],input_list[i])\n",
    "    t = t1       #storing the max of previous iteration\n",
    "    t1 = t3      #storing the max of new iteration\n",
    "    print(t3)"
   ]
  },
  {
   "cell_type": "code",
   "execution_count": null,
   "metadata": {},
   "outputs": [],
   "source": []
  },
  {
   "cell_type": "code",
   "execution_count": null,
   "metadata": {},
   "outputs": [],
   "source": []
  }
 ],
 "metadata": {
  "kernelspec": {
   "display_name": "Python 3",
   "language": "python",
   "name": "python3"
  },
  "language_info": {
   "codemirror_mode": {
    "name": "ipython",
    "version": 3
   },
   "file_extension": ".py",
   "mimetype": "text/x-python",
   "name": "python",
   "nbconvert_exporter": "python",
   "pygments_lexer": "ipython3",
   "version": "3.8.6"
  }
 },
 "nbformat": 4,
 "nbformat_minor": 4
}
